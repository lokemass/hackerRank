{
  "nbformat": 4,
  "nbformat_minor": 0,
  "metadata": {
    "colab": {
      "provenance": [],
      "authorship_tag": "ABX9TyMvTxeYIGu5K9BugG4ENAcM",
      "include_colab_link": true
    },
    "kernelspec": {
      "name": "python3",
      "display_name": "Python 3"
    },
    "language_info": {
      "name": "python"
    }
  },
  "cells": [
    {
      "cell_type": "markdown",
      "metadata": {
        "id": "view-in-github",
        "colab_type": "text"
      },
      "source": [
        "<a href=\"https://colab.research.google.com/github/lokemass/hackerRank/blob/main/hackerRank.ipynb\" target=\"_parent\"><img src=\"https://colab.research.google.com/assets/colab-badge.svg\" alt=\"Open In Colab\"/></a>"
      ]
    },
    {
      "cell_type": "markdown",
      "source": [
        "In this challenge, the user enters a string and a substring. You have to print the number of times that the substring occurs in the given string. String traversal will take place from left to right, not from right to left.\n",
        "\n",
        "NOTE: String letters are case-sensitive.\n",
        "\n",
        "Input Format\n",
        "\n",
        "The first line of input contains the original string. The next line contains the substring.\n",
        "\n",
        "Constraints\n",
        "\n",
        "\n",
        "Each character in the string is an ascii character.\n",
        "\n",
        "Output Format\n",
        "\n",
        "Output the integer number indicating the total number of occurrences of the substring in the original string.\n",
        "\n",
        "Sample Input\n",
        "\n",
        "ABCDCDC\n",
        "CDC\n",
        "Sample Output\n",
        "\n",
        "2"
      ],
      "metadata": {
        "id": "VeNS7eQfiw3-"
      }
    },
    {
      "cell_type": "code",
      "execution_count": 2,
      "metadata": {
        "colab": {
          "base_uri": "https://localhost:8080/"
        },
        "id": "xNsYsGkRipTR",
        "outputId": "8564d6e5-6c87-4421-a549-f7901f27d37e"
      },
      "outputs": [
        {
          "output_type": "stream",
          "name": "stdout",
          "text": [
            "I am an Indian, by birth\n",
            "Birth\n",
            "0\n"
          ]
        }
      ],
      "source": [
        "def count_substring(string, sub_string):\n",
        "    count=0\n",
        "    for i in range(0, len(string)):\n",
        "        occ=0\n",
        "        for j in range(0, len(sub_string)):\n",
        "            if(i<len(string)):\n",
        "                if(string[i] == sub_string[j]):\n",
        "                    i=i+1\n",
        "                    occ+=1\n",
        "                elif(occ!=0):\n",
        "                    break\n",
        "        if(occ==len(sub_string)):\n",
        "            count+=1\n",
        "    return count\n",
        "\n",
        "if __name__ == '__main__':\n",
        "    string = input().strip()\n",
        "    sub_string = input().strip()\n",
        "\n",
        "    count = count_substring(string, sub_string)\n",
        "    print(count)"
      ]
    },
    {
      "cell_type": "code",
      "source": [
        "def count_substring(string, sub_string):\n",
        "    count=0\n",
        "    for i in range(0, len(string)):\n",
        "        occ=0\n",
        "        for j in range(0, len(sub_string)):\n",
        "            if(i<len(string)):\n",
        "                if(string[i] == sub_string[j]):\n",
        "                    i=i+1\n",
        "                    occ+=1\n",
        "                elif(occ!=0):\n",
        "                    break\n",
        "        if(occ==len(sub_string)):\n",
        "            count+=1\n",
        "    return count\n",
        "\n",
        "if __name__ == '__main__':\n",
        "    string = input().strip()\n",
        "    sub_string = input().strip()\n",
        "\n",
        "    count = count_substring(string, sub_string)\n",
        "    print(count)"
      ],
      "metadata": {
        "colab": {
          "base_uri": "https://localhost:8080/"
        },
        "id": "oAai6elueiki",
        "outputId": "04e9a41e-43d1-4999-b587-3344b75026e3"
      },
      "execution_count": 8,
      "outputs": [
        {
          "output_type": "stream",
          "name": "stdout",
          "text": [
            "I am an Indian, by birth\n",
            "Birth\n",
            "0\n"
          ]
        }
      ]
    },
    {
      "cell_type": "markdown",
      "source": [
        "# **String Validators**\n",
        "EasyPython (Basic)Max Score: 10Success Rate: 94.25%\n",
        "Identify the presence of alphanumeric characters, alphabetical characters, digits, lowercase and uppercase characters in a string."
      ],
      "metadata": {
        "id": "F2HsmEHWVVkT"
      }
    },
    {
      "cell_type": "markdown",
      "source": [
        "Task\n",
        "\n",
        "You are given a string .\n",
        "Your task is to find out if the string  contains: alphanumeric characters, alphabetical characters, digits, lowercase and uppercase characters.\n",
        "\n",
        "Input Format\n",
        "\n",
        "A single line containing a string .\n",
        "\n",
        "Constraints\n",
        "\n",
        "\n",
        "Output Format\n",
        "\n",
        "In the first line, print True if  has any alphanumeric characters. Otherwise, print False.\n",
        "In the second line, print True if  has any alphabetical characters. Otherwise, print False.\n",
        "In the third line, print True if  has any digits. Otherwise, print False.\n",
        "In the fourth line, print True if  has any lowercase characters. Otherwise, print False.\n",
        "In the fifth line, print True if  has any uppercase characters. Otherwise, print False.\n",
        "\n",
        "Sample Input\n",
        "\n",
        "qA2\n",
        "Sample Output\n",
        "\n",
        "True\n",
        "True\n",
        "True\n",
        "True\n",
        "True"
      ],
      "metadata": {
        "id": "y2Q1TQWZZkJw"
      }
    },
    {
      "cell_type": "code",
      "source": [
        "if __name__ == '__main__':\n",
        "    s = input()\n",
        "    print(any(c.isalnum() for c in s))\n",
        "    print(any(c.isalpha() for c in s))\n",
        "    print(any(c.isdigit() for c in s))\n",
        "    print(any(c.islower() for c in s))\n",
        "    print(any(c.isupper() for c in s))"
      ],
      "metadata": {
        "id": "R74jcfqPi2jG",
        "colab": {
          "base_uri": "https://localhost:8080/"
        },
        "outputId": "78762c90-4705-48c9-9ee3-b2573cbfd3e3"
      },
      "execution_count": 1,
      "outputs": [
        {
          "output_type": "stream",
          "name": "stdout",
          "text": [
            "Asd3\n",
            "True\n",
            "True\n",
            "True\n",
            "True\n",
            "True\n"
          ]
        }
      ]
    },
    {
      "cell_type": "code",
      "source": [
        "width = 20\n"
      ],
      "metadata": {
        "id": "zAZPOkRcZrnJ"
      },
      "execution_count": 3,
      "outputs": []
    },
    {
      "cell_type": "code",
      "source": [
        "print ('HackerRank'.ljust(width,'-'))"
      ],
      "metadata": {
        "colab": {
          "base_uri": "https://localhost:8080/"
        },
        "id": "b_j5zoOacMZY",
        "outputId": "19e52ac3-b6e2-453e-f2ef-d075c7ee0e7f"
      },
      "execution_count": 6,
      "outputs": [
        {
          "output_type": "stream",
          "name": "stdout",
          "text": [
            "HackerRank----------\n"
          ]
        }
      ]
    },
    {
      "cell_type": "markdown",
      "source": [
        "Task\n",
        "\n",
        "You are given a partial code that is used for generating the HackerRank Logo of variable thickness.\n",
        "Your task is to replace the blank (______) with rjust, ljust or center.\n",
        "\n",
        "Input Format\n",
        "\n",
        "A single line containing the thickness value for the logo.\n",
        "\n",
        "Constraints\n",
        "\n",
        "The thickness must be an odd number.\n",
        "\n",
        "Output Format\n",
        "\n",
        "Output the desired logo.\n",
        "\n",
        "Sample Input\n",
        "\n",
        "`5`\n",
        "\n",
        "Sample Output\n",
        "\n",
        "```\n",
        "\n",
        "\n",
        "    H    \n",
        "   HHH   \n",
        "  HHHHH  \n",
        " HHHHHHH\n",
        "HHHHHHHHH\n",
        "  HHHHH               HHHHH             \n",
        "  HHHHH               HHHHH             \n",
        "  HHHHH               HHHHH             \n",
        "  HHHHH               HHHHH             \n",
        "  HHHHH               HHHHH             \n",
        "  HHHHH               HHHHH             \n",
        "  HHHHHHHHHHHHHHHHHHHHHHHHH   \n",
        "  HHHHHHHHHHHHHHHHHHHHHHHHH   \n",
        "  HHHHHHHHHHHHHHHHHHHHHHHHH   \n",
        "  HHHHH               HHHHH             \n",
        "  HHHHH               HHHHH             \n",
        "  HHHHH               HHHHH             \n",
        "  HHHHH               HHHHH             \n",
        "  HHHHH               HHHHH             \n",
        "  HHHHH               HHHHH             \n",
        "                    HHHHHHHHH\n",
        "                     HHHHHHH  \n",
        "                      HHHHH   \n",
        "                       HHH    \n",
        "                        H\n",
        "```"
      ],
      "metadata": {
        "id": "5A_vghzneEcb"
      }
    },
    {
      "cell_type": "code",
      "source": [
        "# Enter your code here. Read input from STDIN. Print output to STDOUT\n",
        "w=int(input())\n",
        "c='H'\n",
        "def top():\n",
        "  for i in range(w):\n",
        "        print((c + ((c*2)*i)).center(w*2-1, ' '))\n",
        "\n",
        "def bot():\n",
        "  for i in range(w-1, -1, -1):\n",
        "        print(((c + ((c*2)*i)).center(w*2-1, ' ')).rjust(w*6-1, ' '))\n",
        "\n",
        "def legs():\n",
        "    for i in range(w+1):\n",
        "            print((c*w + ((' '*w)*3) + c*w).center(w*6-1, ' '))\n",
        "\n",
        "def mid():\n",
        "    for i in range(w//2+1):\n",
        "        print((c*w*5).center(w*6-1, ' '))\n",
        "\n",
        "top()\n",
        "legs()\n",
        "mid()\n",
        "legs()\n",
        "bot()"
      ],
      "metadata": {
        "colab": {
          "base_uri": "https://localhost:8080/"
        },
        "id": "7DOn-FrscNTS",
        "outputId": "739f3c46-59ce-400d-bed0-cc1253efed42"
      },
      "execution_count": 7,
      "outputs": [
        {
          "output_type": "stream",
          "name": "stdout",
          "text": [
            "5\n",
            "    H    \n",
            "   HHH   \n",
            "  HHHHH  \n",
            " HHHHHHH \n",
            "HHHHHHHHH\n",
            "  HHHHH               HHHHH  \n",
            "  HHHHH               HHHHH  \n",
            "  HHHHH               HHHHH  \n",
            "  HHHHH               HHHHH  \n",
            "  HHHHH               HHHHH  \n",
            "  HHHHH               HHHHH  \n",
            "  HHHHHHHHHHHHHHHHHHHHHHHHH  \n",
            "  HHHHHHHHHHHHHHHHHHHHHHHHH  \n",
            "  HHHHHHHHHHHHHHHHHHHHHHHHH  \n",
            "  HHHHH               HHHHH  \n",
            "  HHHHH               HHHHH  \n",
            "  HHHHH               HHHHH  \n",
            "  HHHHH               HHHHH  \n",
            "  HHHHH               HHHHH  \n",
            "  HHHHH               HHHHH  \n",
            "                    HHHHHHHHH\n",
            "                     HHHHHHH \n",
            "                      HHHHH  \n",
            "                       HHH   \n",
            "                        H    \n"
          ]
        }
      ]
    },
    {
      "cell_type": "code",
      "source": [],
      "metadata": {
        "id": "VJHBRdhZeYmC"
      },
      "execution_count": null,
      "outputs": []
    },
    {
      "cell_type": "code",
      "source": [],
      "metadata": {
        "id": "AEyAibOqeCi_"
      },
      "execution_count": null,
      "outputs": []
    }
  ]
}