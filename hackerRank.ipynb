{
  "nbformat": 4,
  "nbformat_minor": 0,
  "metadata": {
    "colab": {
      "provenance": [],
      "authorship_tag": "ABX9TyPMUJ+ZeESfpX89pE3KJVHl",
      "include_colab_link": true
    },
    "kernelspec": {
      "name": "python3",
      "display_name": "Python 3"
    },
    "language_info": {
      "name": "python"
    }
  },
  "cells": [
    {
      "cell_type": "markdown",
      "metadata": {
        "id": "view-in-github",
        "colab_type": "text"
      },
      "source": [
        "<a href=\"https://colab.research.google.com/github/lokemass/hackerRank/blob/main/hackerRank.ipynb\" target=\"_parent\"><img src=\"https://colab.research.google.com/assets/colab-badge.svg\" alt=\"Open In Colab\"/></a>"
      ]
    },
    {
      "cell_type": "markdown",
      "source": [
        "In this challenge, the user enters a string and a substring. You have to print the number of times that the substring occurs in the given string. String traversal will take place from left to right, not from right to left.\n",
        "\n",
        "NOTE: String letters are case-sensitive.\n",
        "\n",
        "Input Format\n",
        "\n",
        "The first line of input contains the original string. The next line contains the substring.\n",
        "\n",
        "Constraints\n",
        "\n",
        "\n",
        "Each character in the string is an ascii character.\n",
        "\n",
        "Output Format\n",
        "\n",
        "Output the integer number indicating the total number of occurrences of the substring in the original string.\n",
        "\n",
        "Sample Input\n",
        "\n",
        "ABCDCDC\n",
        "CDC\n",
        "Sample Output\n",
        "\n",
        "2"
      ],
      "metadata": {
        "id": "VeNS7eQfiw3-"
      }
    },
    {
      "cell_type": "code",
      "execution_count": null,
      "metadata": {
        "colab": {
          "base_uri": "https://localhost:8080/"
        },
        "id": "xNsYsGkRipTR",
        "outputId": "41eefb3a-7eed-4443-9e43-49432157c2df"
      },
      "outputs": [
        {
          "output_type": "stream",
          "name": "stdout",
          "text": [
            "I am an Indian, by birth\n",
            "Birth\n",
            "0\n"
          ]
        }
      ],
      "source": [
        "def count_substring(string, sub_string):\n",
        "    count=0\n",
        "    for i in range(0, len(string)):\n",
        "        occ=0\n",
        "        for j in range(0, len(sub_string)):\n",
        "            if(i<len(string)):\n",
        "                if(string[i] == sub_string[j]):\n",
        "                    i=i+1\n",
        "                    occ+=1\n",
        "                elif(occ!=0):\n",
        "                    break\n",
        "        if(occ==len(sub_string)):\n",
        "            count+=1\n",
        "    return count\n",
        "\n",
        "if __name__ == '__main__':\n",
        "    string = input().strip()\n",
        "    sub_string = input().strip()\n",
        "\n",
        "    count = count_substring(string, sub_string)\n",
        "    print(count)"
      ]
    },
    {
      "cell_type": "code",
      "source": [],
      "metadata": {
        "id": "R74jcfqPi2jG"
      },
      "execution_count": null,
      "outputs": []
    }
  ]
}